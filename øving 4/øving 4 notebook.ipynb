{
 "cells": [
  {
   "cell_type": "code",
   "execution_count": 29,
   "metadata": {},
   "outputs": [],
   "source": []
  },
  {
   "cell_type": "code",
   "execution_count": 30,
   "metadata": {},
   "outputs": [
    {
     "name": "stdout",
     "output_type": "stream",
     "text": [
      "68.4 ns ± 0.354 ns per loop (mean ± std. dev. of 7 runs, 10000000 loops each)\n"
     ]
    }
   ],
   "source": [
    "%%timeit\n",
    "def bubblesort(unordered_list):\n",
    "    iteration_number = len(unordered_list) - 1\n",
    "    for i in range(iteration_number):\n",
    "        for j in range(iteration_number):\n",
    "            if unordered_list[j] > unordered_list[j + 1]:\n",
    "                temp = unordered_list[j]\n",
    "                unordered_list[j] = unordered_list[j + 1]\n",
    "                unordered_list[j + 1] = temp\n",
    "    return unordered_list\n",
    "\n",
    "\n",
    "%%timeit\n",
    "def selectionsort(unsorted_list):\n",
    "    size_of_list = len(unsorted_list)\n",
    "\n",
    "    for i in range(size_of_list):\n",
    "        for j in range(i+1, size_of_list):\n",
    "            if unsorted_list[j] < unsorted_list[i]:\n",
    "                temp = unsorted_list[i]\n",
    "                unsorted_list[i] = unsorted_list[j]\n",
    "                unsorted_list[j] = temp\n",
    "    return unsorted_list\n",
    "\n",
    "\n",
    "%%timeit\n",
    "def insertionsort(unsorted_list):\n",
    "    for index in range(1, len(unsorted_list)):\n",
    "        search_index = index\n",
    "        insert_value = unsorted_list[index]\n",
    "\n",
    "        while search_index > 0 and unsorted_list[search_index-1] > insert_value:\n",
    "            unsorted_list[search_index] = unsorted_list[search_index-1]\n",
    "            search_index -= 1\n",
    "\n",
    "        unsorted_list[search_index] = insert_value\n",
    "    return unsorted_list"
   ]
  },
  {
   "cell_type": "code",
   "execution_count": 37,
   "metadata": {},
   "outputs": [],
   "source": [
    "import random\n",
    "import string\n",
    "def convert(string):\n",
    "    my_list = []\n",
    "    my_list[:0] = string\n",
    "    return my_list\n",
    "\n",
    "def random_string_generator(length):\n",
    "    letters = string.ascii_letters.upper()\n",
    "    result_str = ''.join(random.choice(letters) for i in range(length))\n",
    "    return result_str\n",
    "\n",
    "\n",
    "random_string = random_string_generator(100)\n",
    "random_list = convert(random_string)\n"
   ]
  }
 ],
 "metadata": {
  "kernelspec": {
   "display_name": "Python 3",
   "language": "python",
   "name": "python3"
  },
  "language_info": {
   "codemirror_mode": {
    "name": "ipython",
    "version": 3
   },
   "file_extension": ".py",
   "mimetype": "text/x-python",
   "name": "python",
   "nbconvert_exporter": "python",
   "pygments_lexer": "ipython3",
   "version": "3.8.5"
  }
 },
 "nbformat": 4,
 "nbformat_minor": 4
}
