{
 "cells": [
  {
   "cell_type": "raw",
   "metadata": {},
   "source": [
    "1: Lag en Iterator Class som kan skrive ut Fibonacci-tallene mellom 0 og 1000"
   ]
  },
  {
   "cell_type": "code",
   "execution_count": 38,
   "metadata": {},
   "outputs": [
    {
     "name": "stdout",
     "output_type": "stream",
     "text": [
      "0\n",
      "1\n",
      "1\n",
      "2\n",
      "3\n",
      "5\n",
      "8\n",
      "13\n",
      "21\n",
      "34\n",
      "55\n",
      "89\n",
      "144\n",
      "233\n",
      "377\n",
      "610\n",
      "987\n"
     ]
    }
   ],
   "source": [
    "#kode for Oppgave 1 her, bruk flere celler hvis det trengs\n",
    "class IterateFibonacci:\n",
    "    def __init__(self, fib_max):\n",
    "        self.fib_max = fib_max\n",
    "        self.f0 = 0\n",
    "        self.f1 = 1\n",
    "        \n",
    "    def __iter__(self):\n",
    "        return self\n",
    "    \n",
    "    def __next__(self):\n",
    "        fib = self.f0\n",
    "        if fib >= self.fib_max:\n",
    "            raise StopIteration\n",
    "        self.f0, self.f1 = self.f1, self.f0 + self.f1\n",
    "        return fib\n",
    "\n",
    "    \n",
    "fib_max = 1000\n",
    "def iter_fib():\n",
    "    fibs = IterateFibonacci(fib_max)\n",
    "    for fib in fibs:\n",
    "        print(fib)\n",
    "        \n",
    "iter_fib()"
   ]
  },
  {
   "cell_type": "raw",
   "metadata": {},
   "source": [
    "[0, 1, 1, 2, 3, 5, 8, 13, 21, 34, 55, 89, 144, 233, 377, 610, 987] #forventet output for oppgave 1"
   ]
  },
  {
   "cell_type": "raw",
   "metadata": {},
   "source": [
    "2: Lag en Generator Function som skriver ut Fibonacci-tallene mellom 0 og 1000"
   ]
  },
  {
   "cell_type": "code",
   "execution_count": 40,
   "metadata": {},
   "outputs": [
    {
     "name": "stdout",
     "output_type": "stream",
     "text": [
      "<class 'generator'>\n",
      "0\n",
      "1\n",
      "1\n",
      "2\n",
      "3\n",
      "5\n",
      "8\n",
      "13\n",
      "21\n",
      "34\n",
      "55\n",
      "89\n",
      "144\n",
      "233\n",
      "377\n",
      "610\n",
      "987\n"
     ]
    }
   ],
   "source": [
    "#kode for Oppgave 2 her, bruk flere celler hvis det trengs\n",
    "def fibonacci(fib_max):\n",
    "    f0, f1 = 0, 1\n",
    "    while True:\n",
    "        if (f0 >= fib_max): return\n",
    "        yield f0\n",
    "        f0, f1 = f1, f0 + f1\n",
    "        \n",
    "        \n",
    "fib_max = 1000\n",
    "fibs = fibonacci(fib_max)\n",
    "print(type(fibs))\n",
    "for f in fibs:\n",
    "    print(f)\n",
    "    "
   ]
  },
  {
   "cell_type": "raw",
   "metadata": {},
   "source": [
    "[0, 1, 1, 2, 3, 5, 8, 13, 21, 34, 55, 89, 144, 233, 377, 610, 987] #forventet output for oppgave 2"
   ]
  },
  {
   "cell_type": "raw",
   "metadata": {},
   "source": [
    "3: Lag en Class NewInt som arver fra int. Den skal ha en Instance Method is_fibonacci() som returnerer True om tallet er et Fibonacci-tall, False hvis ikke. Generer en liste med NewInt fra 0 til 1000. Lag så en List Comprehension som kun beholder tallene som er Fibonacci ved hjelp av klassen og instansmetoden du lagde."
   ]
  },
  {
   "cell_type": "code",
   "execution_count": 22,
   "metadata": {},
   "outputs": [
    {
     "name": "stdout",
     "output_type": "stream",
     "text": [
      "<class '__main__.NewInt'>\n",
      "11.3 ns ± 0.22 ns per loop (mean ± std. dev. of 7 runs, 100000000 loops each)\n",
      "[0, 1, 2, 3, 5, 8, 13, 21, 34, 55, 89, 144, 233, 377, 610, 987]\n"
     ]
    }
   ],
   "source": [
    "#kode for Oppgave 3 her, bruk flere celler hvis det trengs\n",
    "import timeit\n",
    "\n",
    "class NewInt(int):\n",
    "    def __init__(self, range_max):\n",
    "        self.sequence = list(range(0, range_max))\n",
    "        self.index = 0\n",
    "        \n",
    "    def __next__(self):\n",
    "        if self.index >= len(self.sequence):\n",
    "            raise StopIteration\n",
    "        result = self.sequence[self.index]\n",
    "        self.index += 1\n",
    "        return result\n",
    "    \n",
    "    def __iter__(self):\n",
    "        return self\n",
    "   \n",
    "\n",
    "    \n",
    "def is_fib(x):\n",
    "    f0, f1 = 0, 1\n",
    "    while True:\n",
    "        if (f0 > 100_000):\n",
    "            return\n",
    "        if x == f0:\n",
    "            return True\n",
    "        f0, f1 = f1, f0 + f1\n",
    "    return False\n",
    "    \n",
    "\n",
    "int_list = NewInt(1000)\n",
    "print(type(int_list))\n",
    "\n",
    "\n",
    "%timeit pass\n",
    "compared_fibonaccis = [i for i in int_list if is_fib(i)]\n",
    "    \n",
    "print(compared_fibonaccis)"
   ]
  },
  {
   "cell_type": "raw",
   "metadata": {},
   "source": [
    "[0, 1, 2, 3, 5, 8, 13, 21, 34, 55, 89, 144, 233, 377, 610, 987] #forventet output for oppgave 3"
   ]
  },
  {
   "cell_type": "raw",
   "metadata": {},
   "source": [
    "4: Lag en liste int_list med NewInt fra 0 til 100 000. Lag deretter et set() fib_set med Fibonacci-tallene mellom 0 og 100 000 med fremgangsmåte du selv velger. Lag en List Comprehension som sjekker int_list mot fib_set. Sammenlign deretter performance mot klassen og metoden du lagde i oppgave 3 for å se hva som er raskest.  Tips: Sjekk performance med %%timeit i en notebook-celle."
   ]
  },
  {
   "cell_type": "code",
   "execution_count": 21,
   "metadata": {},
   "outputs": [
    {
     "name": "stdout",
     "output_type": "stream",
     "text": [
      "10.9 ns ± 0.0778 ns per loop (mean ± std. dev. of 7 runs, 100000000 loops each)\n",
      "[0, 1, 2, 3, 5, 8, 13, 21, 34, 55, 89, 144, 233, 377, 610, 987, 1597, 2584, 4181, 6765, 10946, 17711, 28657, 46368, 75025]\n"
     ]
    }
   ],
   "source": [
    "#kode for Oppgave 4 her, bruk flere celler hvis det trengs\n",
    "import timeit\n",
    "\n",
    "class NewInt(int):\n",
    "    def __init__(self, range_max):\n",
    "        self.sequence = list(range(0, range_max))\n",
    "        self.index = 0\n",
    "        \n",
    "    def __next__(self):\n",
    "        if self.index >= len(self.sequence):\n",
    "            raise StopIteration\n",
    "        result = self.sequence[self.index]\n",
    "        self.index += 1\n",
    "        return result\n",
    "    \n",
    "    def __iter__(self):\n",
    "        return self\n",
    "\n",
    "    \n",
    "def fibonacci(fib_max):\n",
    "    f0, f1 = 0, 1\n",
    "    while True:\n",
    "        if (f0 >= fib_max): return\n",
    "        yield f0\n",
    "        f0, f1 = f1, f0 + f1\n",
    "\n",
    "int_list = NewInt(100_000)\n",
    "fibs = fibonacci(100_000)\n",
    "\n",
    "def make_fib_set():\n",
    "    f0, f1 = 0, 1\n",
    "    while f0 < 100_000:\n",
    "        fib_set.add(f0)\n",
    "        f0, f1 = f1, f0 + f1\n",
    "        \n",
    "fib_set = set()\n",
    "make_fib_set()\n",
    "\n",
    "%timeit pass\n",
    "compared = [i for i in int_list if i in  fib_set]\n",
    "print(compared)"
   ]
  },
  {
   "cell_type": "raw",
   "metadata": {},
   "source": [
    "#Kommentarer til oppgave 4 her\n",
    "Tidsbruken i oppgave 3 og oppgave 4 når man kjører list comprehension over 100.000 elementer ser ut til å være forholdsvis lik. Begge kjører på gjennomsnittlig 10 ns, men avviket (+-) i oppgave 3 oppgis til 0,22 ns, mens avviket i oppgave 4 oppgis til 0,0778 ns"
   ]
  }
 ],
 "metadata": {
  "kernelspec": {
   "display_name": "Python 3",
   "language": "python",
   "name": "python3"
  },
  "language_info": {
   "codemirror_mode": {
    "name": "ipython",
    "version": 3
   },
   "file_extension": ".py",
   "mimetype": "text/x-python",
   "name": "python",
   "nbconvert_exporter": "python",
   "pygments_lexer": "ipython3",
   "version": "3.8.3"
  }
 },
 "nbformat": 4,
 "nbformat_minor": 4
}
