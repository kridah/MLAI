{
 "cells": [
  {
   "cell_type": "raw",
   "metadata": {},
   "source": [
    "1: Lag en Iterator Class som kan skrive ut Fibonacci-tallene mellom 0 og 1000"
   ]
  },
  {
   "cell_type": "code",
   "execution_count": 11,
   "metadata": {},
   "outputs": [
    {
     "name": "stdout",
     "output_type": "stream",
     "text": [
      "[0, 1, 1, 2, 3, 5, 8, 13, 21, 34, 55, 89, 144, 233, 377, 610, 987]\n"
     ]
    }
   ],
   "source": [
    "#kode for Oppgave 1 her, bruk flere celler hvis det trengs\n",
    "class IterateFibonacci:\n",
    "    def __init__(self, fib_max):\n",
    "        self.fib_max = fib_max\n",
    "        self.f0 = 0\n",
    "        self.f1 = 1\n",
    "        \n",
    "    def __iter__(self):\n",
    "        return self\n",
    "    \n",
    "    def __next__(self):\n",
    "        fib = self.f0\n",
    "        if fib >= self.fib_max:\n",
    "            raise StopIteration\n",
    "        self.f0, self.f1 = self.f1, self.f0 + self.f1\n",
    "        return fib\n",
    "\n",
    "fib_list = []\n",
    "fib_max = 1000\n",
    "def iter_fib():\n",
    "    fibs = IterateFibonacci(fib_max)\n",
    "    for fib in fibs:\n",
    "        fib_list.append(fib)\n",
    "        \n",
    "iter_fib()\n",
    "print(fib_list)"
   ]
  },
  {
   "cell_type": "raw",
   "metadata": {},
   "source": [
    "[0, 1, 1, 2, 3, 5, 8, 13, 21, 34, 55, 89, 144, 233, 377, 610, 987] #forventet output for oppgave 1"
   ]
  },
  {
   "cell_type": "raw",
   "metadata": {},
   "source": [
    "2: Lag en Generator Function som skriver ut Fibonacci-tallene mellom 0 og 1000"
   ]
  },
  {
   "cell_type": "code",
   "execution_count": 12,
   "metadata": {},
   "outputs": [
    {
     "name": "stdout",
     "output_type": "stream",
     "text": [
      "[0, 1, 1, 2, 3, 5, 8, 13, 21, 34, 55, 89, 144, 233, 377, 610, 987]\n"
     ]
    }
   ],
   "source": [
    "#kode for Oppgave 2 her, bruk flere celler hvis det trengs\n",
    "def fibonacci(fib_max):\n",
    "    f0, f1 = 0, 1\n",
    "    while True:\n",
    "        if (f0 >= fib_max): return\n",
    "        yield f0\n",
    "        f0, f1 = f1, f0 + f1\n",
    "        \n",
    "\n",
    "fib_list = []\n",
    "fib_max = 1000\n",
    "fibs = fibonacci(fib_max)\n",
    "\n",
    "for f in fibs:\n",
    "    fib_list.append(f)\n",
    "    \n",
    "print(fib_list)\n",
    "    "
   ]
  },
  {
   "cell_type": "raw",
   "metadata": {},
   "source": [
    "[0, 1, 1, 2, 3, 5, 8, 13, 21, 34, 55, 89, 144, 233, 377, 610, 987] #forventet output for oppgave 2"
   ]
  },
  {
   "cell_type": "raw",
   "metadata": {},
   "source": [
    "3: Lag en Class NewInt som arver fra int. Den skal ha en Instance Method is_fibonacci() som returnerer True om tallet er et Fibonacci-tall, False hvis ikke. Generer en liste med NewInt fra 0 til 1000. Lag så en List Comprehension som kun beholder tallene som er Fibonacci ved hjelp av klassen og instansmetoden du lagde."
   ]
  },
  {
   "cell_type": "code",
   "execution_count": 21,
   "metadata": {},
   "outputs": [
    {
     "name": "stdout",
     "output_type": "stream",
     "text": [
      "259 ms ± 1.87 ms per loop (mean ± std. dev. of 7 runs, 1 loop each)\n",
      "[0, 1, 2, 3, 5, 8, 13, 21, 34, 55, 89, 144, 233, 377, 610, 987, 1597, 2584, 4181, 6765, 10946, 17711, 28657, 46368, 75025]\n"
     ]
    }
   ],
   "source": [
    "#kode for Oppgave 3 her, bruk flere celler hvis det trengs\n",
    "import timeit\n",
    "\n",
    "class NewInt(int):\n",
    "    def __init__(self, new_int):\n",
    "        super().__init__()\n",
    "\n",
    "    def is_fib(self):\n",
    "        f0, f1 = 0, 1\n",
    "        while True:\n",
    "            if f0 > n:\n",
    "                return False\n",
    "            if self == f0:\n",
    "                return True\n",
    "            f0, f1 = f1, f0 + f1\n",
    "\n",
    "            \n",
    "n = 100_000\n",
    "\n",
    "int_list = [NewInt(i) for i in range(n)]\n",
    "%timeit [x for x in int_list if x.is_fib()] # list comprehension som sjekker alle tall i int_list mot is_fib()\n",
    "\n"
   ]
  },
  {
   "cell_type": "raw",
   "metadata": {},
   "source": [
    "[0, 1, 2, 3, 5, 8, 13, 21, 34, 55, 89, 144, 233, 377, 610, 987] #forventet output for oppgave 3"
   ]
  },
  {
   "cell_type": "raw",
   "metadata": {},
   "source": [
    "4: Lag en liste int_list med NewInt fra 0 til 100 000. Lag deretter et set() fib_set med Fibonacci-tallene mellom 0 og 100 000 med fremgangsmåte du selv velger. Lag en List Comprehension som sjekker int_list mot fib_set. Sammenlign deretter performance mot klassen og metoden du lagde i oppgave 3 for å se hva som er raskest.  Tips: Sjekk performance med %%timeit i en notebook-celle."
   ]
  },
  {
   "cell_type": "code",
   "execution_count": 22,
   "metadata": {},
   "outputs": [
    {
     "name": "stdout",
     "output_type": "stream",
     "text": [
      "4.67 ms ± 35.6 µs per loop (mean ± std. dev. of 7 runs, 100 loops each)\n"
     ]
    }
   ],
   "source": [
    "class NewInt(int):\n",
    "    def __init__(self, new_int):\n",
    "        super().__init__()\n",
    "\n",
    "\n",
    "def fibonacci(fib_max):\n",
    "    f0, f1 = 0, 1\n",
    "    while True:\n",
    "        if (f0 >= fib_max): return\n",
    "        yield f0\n",
    "        f0, f1 = f1, f0 + f1\n",
    "\n",
    "\n",
    "n = 100_000\n",
    "fib_set = set()\n",
    "fibs = fibonacci(n)\n",
    "for f in fibs:\n",
    "    fib_set.add(f)\n",
    "\n",
    "\n",
    "int_list = [NewInt(i) for i in range(n)]\n",
    "%timeit [i for i in int_list if i in fib_set]\n",
    "\n",
    "\n",
    "#print(compared_fibonaccis)\n"
   ]
  },
  {
   "cell_type": "markdown",
   "metadata": {},
   "source": [
    "#Kommentarer til oppgave 4 her\n",
    "\n",
    "Tidsforskjellen (på mitt system) mellom metodene i oppgave 3 og oppgave 4 er i skala 250 ms (oppg. 3) vs. 5 ms (oppg. 4) ved sammenligning av 100.000 tall. Årsaken til effektiviteten i oppgave 4 kommer blant annet av at vi jobber med et uordnet Set. Set oppfører seg som en hashtabell, og dette er en svært effektiv datastruktur for sammenligningsjobber. fib_set er ferdig utfylt med fibonacci-tallene i det man skal sjekke mot int_list.\n",
    "I oppgave 3 derimot må man derimot kjøre metoden is_fib() for hvert tall i listen. Det blir dermed mye mindre effektivt."
   ]
  }
 ],
 "metadata": {
  "kernelspec": {
   "display_name": "Python 3",
   "language": "python",
   "name": "python3"
  },
  "language_info": {
   "codemirror_mode": {
    "name": "ipython",
    "version": 3
   },
   "file_extension": ".py",
   "mimetype": "text/x-python",
   "name": "python",
   "nbconvert_exporter": "python",
   "pygments_lexer": "ipython3",
   "version": "3.8.3"
  }
 },
 "nbformat": 4,
 "nbformat_minor": 4
}
