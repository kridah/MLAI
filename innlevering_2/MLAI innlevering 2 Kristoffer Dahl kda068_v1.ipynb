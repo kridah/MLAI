{
 "cells": [
  {
   "cell_type": "markdown",
   "metadata": {},
   "source": [
    "1: Lag en Iterator Class som kan skrive ut Fibonacci-tallene mellom 0 og 1000\n"
   ]
  },
  {
   "cell_type": "code",
   "execution_count": 25,
   "metadata": {},
   "outputs": [],
   "source": [
    "# kode for oppgave 1 her, bruk flere celler hvis det trengs\n",
    "class MyIterator:\n",
    "    def __init__(self, fib_max, fib_set=None):\n",
    "        self.index = 0\n",
    "        self.fib_max = fib_max\n",
    "        fib_set = generator(fib_max)\n",
    "        \n",
    "    def __iter__(self):\n",
    "        return self\n",
    "    \n",
    "    def __next__(self):\n",
    "        if self.index >= len(self.data):\n",
    "            raise StopIteration()\n",
    "        \n",
    "        result = self.fib_set[self.index]\n",
    "        self.index += 1\n",
    "        return result"
   ]
  },
  {
   "cell_type": "code",
   "execution_count": 26,
   "metadata": {},
   "outputs": [],
   "source": [
    "class ExampleIterable():\n",
    "    def __init__(self):\n",
    "        self.data = generator(1000)\n",
    "        fib_set = []\n",
    "        \n",
    "    def __iter__(self):\n",
    "        return MyIterator(self.data)\n",
    "    "
   ]
  },
  {
   "cell_type": "markdown",
   "metadata": {},
   "source": [
    "2: Lag en Generator Function som skriver ut Fibonacci-tallene mellom 0 og 1000"
   ]
  },
  {
   "cell_type": "code",
   "execution_count": 27,
   "metadata": {},
   "outputs": [],
   "source": [
    "# Kode for oppgave 2 her, bruk flere celler hvis det trengs\n",
    "# Finner Fibonacci-tallene mellom 0 og fib_max\n",
    "# Returnerer resultatet som et set\n",
    "def generator(fib_max):\n",
    "    fib_set = set()\n",
    "    i = 0\n",
    "    f0 = 0\n",
    "    f1 = 1\n",
    "    current_fib = 0\n",
    "\n",
    "    while current_fib <= fib_max:\n",
    "        i += 1\n",
    "        current_fib = f0 + f1\n",
    "        f0 = f1\n",
    "        f1 = current_fib\n",
    "        \n",
    "        if current_fib >= fib_max:\n",
    "            break\n",
    "        fib_set.add(current_fib)\n",
    "        # print(\"Index: \", i, \":\", current_fib)\n",
    "    return fib_set"
   ]
  },
  {
   "cell_type": "markdown",
   "metadata": {},
   "source": [
    "3: Lag en Class NewInt som arver fra Int. Den skal ha en Instance Method is_fibonacci() som returnerer True om tallet er et Fibonacci-tall, False hvis ikke. Generer en liste med NewInt fra 0 til 1000. Lag så en List Comprehension som kun beholder tallene som er Fibonacci ved hjelp av klassen og instansmetoden du lagde."
   ]
  },
  {
   "cell_type": "code",
   "execution_count": 43,
   "metadata": {},
   "outputs": [
    {
     "ename": "AttributeError",
     "evalue": "module 'Iterator' has no attribute 'generator'",
     "output_type": "error",
     "traceback": [
      "\u001b[0;31m---------------------------------------------------------------------------\u001b[0m",
      "\u001b[0;31mAttributeError\u001b[0m                            Traceback (most recent call last)",
      "\u001b[0;32m<ipython-input-43-55e9d5605aee>\u001b[0m in \u001b[0;36m<module>\u001b[0;34m\u001b[0m\n\u001b[1;32m     20\u001b[0m \u001b[0;34m\u001b[0m\u001b[0m\n\u001b[1;32m     21\u001b[0m \u001b[0;34m\u001b[0m\u001b[0m\n\u001b[0;32m---> 22\u001b[0;31m \u001b[0;32mclass\u001b[0m \u001b[0mNewInt\u001b[0m\u001b[0;34m:\u001b[0m\u001b[0;34m\u001b[0m\u001b[0;34m\u001b[0m\u001b[0m\n\u001b[0m\u001b[1;32m     23\u001b[0m     \u001b[0mfib_max\u001b[0m \u001b[0;34m=\u001b[0m \u001b[0;36m2000\u001b[0m\u001b[0;34m\u001b[0m\u001b[0;34m\u001b[0m\u001b[0m\n\u001b[1;32m     24\u001b[0m     \u001b[0mis_fibonacci\u001b[0m\u001b[0;34m(\u001b[0m\u001b[0mfib_max\u001b[0m\u001b[0;34m)\u001b[0m\u001b[0;34m\u001b[0m\u001b[0;34m\u001b[0m\u001b[0m\n",
      "\u001b[0;32m<ipython-input-43-55e9d5605aee>\u001b[0m in \u001b[0;36mNewInt\u001b[0;34m()\u001b[0m\n\u001b[1;32m     22\u001b[0m \u001b[0;32mclass\u001b[0m \u001b[0mNewInt\u001b[0m\u001b[0;34m:\u001b[0m\u001b[0;34m\u001b[0m\u001b[0;34m\u001b[0m\u001b[0m\n\u001b[1;32m     23\u001b[0m     \u001b[0mfib_max\u001b[0m \u001b[0;34m=\u001b[0m \u001b[0;36m2000\u001b[0m\u001b[0;34m\u001b[0m\u001b[0;34m\u001b[0m\u001b[0m\n\u001b[0;32m---> 24\u001b[0;31m     \u001b[0mis_fibonacci\u001b[0m\u001b[0;34m(\u001b[0m\u001b[0mfib_max\u001b[0m\u001b[0;34m)\u001b[0m\u001b[0;34m\u001b[0m\u001b[0;34m\u001b[0m\u001b[0m\n\u001b[0m",
      "\u001b[0;32m<ipython-input-43-55e9d5605aee>\u001b[0m in \u001b[0;36mis_fibonacci\u001b[0;34m(fib_max)\u001b[0m\n\u001b[1;32m      9\u001b[0m     \u001b[0mint_list\u001b[0m \u001b[0;34m=\u001b[0m \u001b[0mrange\u001b[0m\u001b[0;34m(\u001b[0m\u001b[0;36m0\u001b[0m\u001b[0;34m,\u001b[0m \u001b[0mfib_max\u001b[0m\u001b[0;34m)\u001b[0m\u001b[0;34m\u001b[0m\u001b[0;34m\u001b[0m\u001b[0m\n\u001b[1;32m     10\u001b[0m     \u001b[0mfib_set\u001b[0m \u001b[0;34m=\u001b[0m \u001b[0mset\u001b[0m\u001b[0;34m(\u001b[0m\u001b[0;34m)\u001b[0m\u001b[0;34m\u001b[0m\u001b[0;34m\u001b[0m\u001b[0m\n\u001b[0;32m---> 11\u001b[0;31m     \u001b[0mfib_set\u001b[0m \u001b[0;34m=\u001b[0m \u001b[0mIterator\u001b[0m\u001b[0;34m.\u001b[0m\u001b[0mgenerator\u001b[0m\u001b[0;34m(\u001b[0m\u001b[0mfib_max\u001b[0m\u001b[0;34m)\u001b[0m\u001b[0;34m\u001b[0m\u001b[0;34m\u001b[0m\u001b[0m\n\u001b[0m\u001b[1;32m     12\u001b[0m \u001b[0;34m\u001b[0m\u001b[0m\n\u001b[1;32m     13\u001b[0m     \u001b[0;32mfor\u001b[0m \u001b[0mi\u001b[0m \u001b[0;32min\u001b[0m \u001b[0mint_list\u001b[0m\u001b[0;34m:\u001b[0m\u001b[0;34m\u001b[0m\u001b[0;34m\u001b[0m\u001b[0m\n",
      "\u001b[0;31mAttributeError\u001b[0m: module 'Iterator' has no attribute 'generator'"
     ]
    }
   ],
   "source": [
    "# kode for oppgave 3 her. Bruk flere celler hvis det trengs\n",
    "# Finner ikke ut hvordan man kan arve fra Int.\n",
    "# Mener jeg har løst oppgaven her ved å lage en liste int_list fra 0 til fib_max\n",
    "# fib_set blir fylt med fibonacci-tallene fra generator-funksjonen i Iterator-klassen.\n",
    "# For-løkken sjekker hvilke av tallene fra 0 til fib_max som er Fibonacci ved å sammenligne med fib_set\n",
    "\n",
    "\n",
    "def is_fibonacci(fib_max):\n",
    "    int_list = range(0, fib_max)\n",
    "    fib_set = set()\n",
    "    fib_set = Iterator.generator(fib_max)\n",
    "\n",
    "    for i in int_list:\n",
    "        if i in fib_set:\n",
    "            comprehension.append(i)\n",
    "            return True\n",
    "        else:\n",
    "            return False\n",
    "    return comprehension\n",
    "\n",
    "\n",
    "class NewInt:\n",
    "    fib_max = 2000\n",
    "    is_fibonacci(fib_max)"
   ]
  },
  {
   "cell_type": "code",
   "execution_count": null,
   "metadata": {},
   "outputs": [],
   "source": []
  },
  {
   "cell_type": "markdown",
   "metadata": {},
   "source": [
    "Lag en liste int_list med NewInt fra 0 til 100 000. Lag deretter et set() fib_set med\n",
    "Fibonacci-tallene mellom 0 og 100 000 med fremgangsmåte du velger selv.\n",
    "Lag en List Comprehension som sjekker int_list mot fib_set. Sammenlign deretter performance mot klassen og metoden\n",
    "du lagde i oppgave 3 for å se hva som er raskest.\n",
    "Tips: Sjekk performance med %%timeit i en notebook-celle"
   ]
  },
  {
   "cell_type": "code",
   "execution_count": 33,
   "metadata": {},
   "outputs": [
    {
     "ename": "ModuleNotFoundError",
     "evalue": "No module named 'MyIterator'",
     "output_type": "error",
     "traceback": [
      "\u001b[0;31m---------------------------------------------------------------------------\u001b[0m",
      "\u001b[0;31mModuleNotFoundError\u001b[0m                       Traceback (most recent call last)",
      "\u001b[0;32m<ipython-input-33-678fa1ed1127>\u001b[0m in \u001b[0;36m<module>\u001b[0;34m\u001b[0m\n\u001b[1;32m      1\u001b[0m \u001b[0;31m# kode for oppgave 4 her. Bruk flere celler hvis det trengs\u001b[0m\u001b[0;34m\u001b[0m\u001b[0;34m\u001b[0m\u001b[0;34m\u001b[0m\u001b[0m\n\u001b[0;32m----> 2\u001b[0;31m \u001b[0;32mimport\u001b[0m \u001b[0mMyIterator\u001b[0m\u001b[0;34m\u001b[0m\u001b[0;34m\u001b[0m\u001b[0m\n\u001b[0m\u001b[1;32m      3\u001b[0m \u001b[0;34m\u001b[0m\u001b[0m\n\u001b[1;32m      4\u001b[0m \u001b[0;32mdef\u001b[0m \u001b[0mis_fibonacci\u001b[0m\u001b[0;34m(\u001b[0m\u001b[0mfib_max\u001b[0m\u001b[0;34m)\u001b[0m\u001b[0;34m:\u001b[0m\u001b[0;34m\u001b[0m\u001b[0;34m\u001b[0m\u001b[0m\n\u001b[1;32m      5\u001b[0m     \u001b[0mint_list\u001b[0m \u001b[0;34m=\u001b[0m \u001b[0mrange\u001b[0m\u001b[0;34m(\u001b[0m\u001b[0;36m0\u001b[0m\u001b[0;34m,\u001b[0m \u001b[0mfib_max\u001b[0m\u001b[0;34m)\u001b[0m\u001b[0;34m\u001b[0m\u001b[0;34m\u001b[0m\u001b[0m\n",
      "\u001b[0;31mModuleNotFoundError\u001b[0m: No module named 'MyIterator'"
     ]
    }
   ],
   "source": [
    "# kode for oppgave 4 her. Bruk flere celler hvis det trengs\n",
    "import Iterator\n",
    "\n",
    "def is_fibonacci(fib_max):\n",
    "    int_list = range(0, fib_max)\n",
    "    fib_set = set()\n",
    "    fib_set = MyIterator.Iterator.generator(fib_max)\n",
    "\n",
    "    for i in int_list:\n",
    "        if i in fib_set:\n",
    "            comprehension.append(i)\n",
    "            return True\n",
    "        else:\n",
    "            return False\n",
    "\n",
    "\n",
    "class NewInt:\n",
    "    fib_max = 100000\n",
    "    is_fibonacci(fib_max)"
   ]
  }
 ],
 "metadata": {
  "kernelspec": {
   "display_name": "Python 3",
   "language": "python",
   "name": "python3"
  },
  "language_info": {
   "codemirror_mode": {
    "name": "ipython",
    "version": 3
   },
   "file_extension": ".py",
   "mimetype": "text/x-python",
   "name": "python",
   "nbconvert_exporter": "python",
   "pygments_lexer": "ipython3",
   "version": "3.8.3"
  }
 },
 "nbformat": 4,
 "nbformat_minor": 4
}
