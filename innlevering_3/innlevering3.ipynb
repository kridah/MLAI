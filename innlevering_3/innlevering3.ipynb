{
 "cells": [
  {
   "cell_type": "raw",
   "metadata": {},
   "source": [
    "1: Filen \"Personer.dta\" skal leses inn i en list persons. Filen inneholder 100 000 rader med fiktive personalia på formatet \"etternavn;fornavn;adresse;postnummer;poststed\". Dette skal gjøres i native Python, dvs. Numpy/Pandas eller andre libs skal ikke brukes. Legg hver rad inn i en passende datastruktur, feks. tuple, dict, list eller namedtuple. Skriv så ut de 5 siste radene i en celle."
   ]
  },
  {
   "cell_type": "code",
   "execution_count": 28,
   "metadata": {},
   "outputs": [
    {
     "name": "stdout",
     "output_type": "stream",
     "text": [
      "['STORLIEN', 'HANS-MAGNUS', 'TALLSLETTA 57', '3849', 'VRÅLIOSEN\\n']\n",
      "['ASAIPPILLAI', 'JO GUDBRAND', 'BERGERUD 68', '4371', 'EGERSUND\\n']\n",
      "['TOLLEFSEN', 'ZULFIQAR ALI', 'EIRIK JARLS GATE 79', '1305', 'HASLUM\\n']\n",
      "['ELI', 'KNUT OLAF', 'RUSTAD S 14', '9775', 'GAMVIK\\n']\n",
      "['NYRUD', 'ERIK NORØ', 'GJERDHAUGVEGEN 3', '6512', 'KRISTIANSUND N']\n"
     ]
    }
   ],
   "source": [
    "#kode her\n",
    "persons = []\n",
    "with open(\"Personer.dta\", \"r\", encoding=\"ISO-8859-1\") as file:\n",
    "    for line in file:\n",
    "        p = line.split(\";\")\n",
    "        persons.append(p)    # lager en todimensjonal liste\n",
    "    \n",
    "    \n",
    "for person in persons[-5:]:\n",
    "    print(person)"
   ]
  },
  {
   "cell_type": "raw",
   "metadata": {},
   "source": [
    "2: Hvor mange unike postnummer finnes i \"Personer.dta\"?"
   ]
  },
  {
   "cell_type": "code",
   "execution_count": 29,
   "metadata": {},
   "outputs": [
    {
     "name": "stdout",
     "output_type": "stream",
     "text": [
      "Det finnes 2824 unike postnummer\n"
     ]
    }
   ],
   "source": [
    "#kode her\n",
    "list_size = len(persons)\n",
    "postnummer_set = set()\n",
    "for i in range(list_size):\n",
    "    postnummer_set.add(persons[i][3])\n",
    "\n",
    "print(\"Det finnes\", len(postnummer_set), \"unike postnummer\")"
   ]
  },
  {
   "cell_type": "raw",
   "metadata": {},
   "source": [
    "3: Hva er de 10 vanligste etternavnene (som forekommer flest ganger) i \"Personer.dta\"?"
   ]
  },
  {
   "cell_type": "code",
   "execution_count": 30,
   "metadata": {},
   "outputs": [
    {
     "name": "stdout",
     "output_type": "stream",
     "text": [
      "['ÅSBAKK', 82]\n",
      "['BERGERSEN', 77]\n",
      "['DANIELSEN', 76]\n",
      "['LUNDBERGSEN', 76]\n",
      "['LUTHER', 76]\n",
      "['TRANE', 76]\n",
      "['MJØEN', 75]\n",
      "['IGLAND', 74]\n",
      "['KRANGSÅS', 74]\n",
      "['LAM', 74]\n"
     ]
    }
   ],
   "source": [
    "#kode her\n",
    "etternavn_liste = []\n",
    "count = 0\n",
    "for i in range(list_size):\n",
    "    etternavn_liste.append(persons[i][0])\n",
    "    \n",
    "sortert_etternavn_liste = sorted(etternavn_liste)\n",
    "topp_etternavn_liste = []\n",
    "count = 0\n",
    "i = 0\n",
    "for e in sortert_etternavn_liste:\n",
    "    if i == list_size-1:\n",
    "        break\n",
    "    elif sortert_etternavn_liste[i] == sortert_etternavn_liste[i+1]:\n",
    "        count += 1\n",
    "    else:\n",
    "        #print(e, count)\n",
    "        topp_etternavn_liste.append([e, count])\n",
    "        count = 0\n",
    "    i += 1\n",
    "\n",
    "top = sorted(topp_etternavn_liste, key=lambda l:l[1], reverse=True)\n",
    "\n",
    "for t in top[:10]:\n",
    "    print(t)"
   ]
  },
  {
   "cell_type": "raw",
   "metadata": {},
   "source": [
    "4: Implementer sorteringsalgoritmen Heap Sort og sorter listen \"persons\" utfra rekkefølgen radene er lest inn i. Ferdig implementerte funksjoner som sorted skal ikke benyttes. Skriv så ut indexene [0,20000,40000,60000,80000] fra den sorterte listen."
   ]
  },
  {
   "cell_type": "code",
   "execution_count": 32,
   "metadata": {
    "pycharm": {
     "name": "#%%\n"
    }
   },
   "outputs": [
    {
     "name": "stdout",
     "output_type": "stream",
     "text": [
      "Index 0: ['GJERSTAD', 'TORKJELL', 'HOSTELAND 2 83', '1361', 'ØSTERÅS\\n'] \n",
      "Index 20000: ['PAASCHCE', 'JON-REIDAR', 'VARMBUVEGEN 105', '4601', 'KRISTIANSAND S\\n'] \n",
      "Index 40000: ['STORLIEN', 'ASBJØRN R. OLSEN', 'YTTERSTAD 114', '7541', 'KLÆBU\\n'] \n",
      "Index 80000: ['ØVERLI', 'PEDER', 'FRIGAARD NEDRE 28', '6398', 'TOMREFJORD\\n']\n"
     ]
    }
   ],
   "source": [
    "#kode her\n",
    "\n",
    "size = len(persons)\n",
    "persons.insert(0, size - 1)\n",
    "persons.remove(size - 1)\n",
    "\n",
    "# heap sort\n",
    "current_index = 0\n",
    "while current_index < size:\n",
    "    left_child_index = 2 * current_index + 1\n",
    "    right_child_index = 2 * current_index + 2\n",
    "\n",
    "    if left_child_index >= size:    # is heap\n",
    "        break\n",
    "    max_index = left_child_index\n",
    "    if right_child_index < size:\n",
    "        if persons[max_index][0] > persons[right_child_index][0]:\n",
    "            max_index = right_child_index\n",
    "\n",
    "    if persons[current_index] > persons[max_index]:\n",
    "        temp = persons[max_index]\n",
    "        persons.insert(max_index, persons[current_index])\n",
    "        persons.insert(current_index, temp)\n",
    "        current_index = max_index\n",
    "    else:\n",
    "        break\n",
    "\n",
    "print(\"Index 0:\", persons[0],\n",
    "       \"\\nIndex 20000:\", persons[20000],\n",
    "       \"\\nIndex 40000:\",persons[40000],\n",
    "       \"\\nIndex 80000:\",persons[80000])"
   ]
  },
  {
   "cell_type": "code",
   "execution_count": null,
   "outputs": [],
   "source": [],
   "metadata": {
    "collapsed": false,
    "pycharm": {
     "name": "#%%\n"
    }
   }
  }
 ],
 "metadata": {
  "kernelspec": {
   "display_name": "Python 3",
   "language": "python",
   "name": "python3"
  },
  "language_info": {
   "codemirror_mode": {
    "name": "ipython",
    "version": 3
   },
   "file_extension": ".py",
   "mimetype": "text/x-python",
   "name": "python",
   "nbconvert_exporter": "python",
   "pygments_lexer": "ipython3",
   "version": "3.8.3"
  }
 },
 "nbformat": 4,
 "nbformat_minor": 4
}