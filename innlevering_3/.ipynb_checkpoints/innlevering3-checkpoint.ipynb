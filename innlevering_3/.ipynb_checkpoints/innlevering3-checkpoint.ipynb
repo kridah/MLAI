{
 "cells": [
  {
   "cell_type": "raw",
   "metadata": {},
   "source": [
    "1: Filen \"Personer.dta\" skal leses inn i en list persons. Filen inneholder 100 000 rader med fiktive personalia på formatet \"etternavn;fornavn;adresse;postnummer;poststed\". Dette skal gjøres i native Python, dvs. Numpy/Pandas eller andre libs skal ikke brukes. Legg hver rad inn i en passende datastruktur, feks. tuple, dict, list eller namedtuple. Skriv så ut de 5 siste radene i en celle."
   ]
  },
  {
   "cell_type": "code",
   "execution_count": 9,
   "metadata": {},
   "outputs": [
    {
     "name": "stdout",
     "output_type": "stream",
     "text": [
      "['STORLIEN', 'HANS-MAGNUS', 'TALLSLETTA 57', '3849', 'VRÅLIOSEN\\n']\n",
      "['ASAIPPILLAI', 'JO GUDBRAND', 'BERGERUD 68', '4371', 'EGERSUND\\n']\n",
      "['TOLLEFSEN', 'ZULFIQAR ALI', 'EIRIK JARLS GATE 79', '1305', 'HASLUM\\n']\n",
      "['ELI', 'KNUT OLAF', 'RUSTAD S 14', '9775', 'GAMVIK\\n']\n",
      "['NYRUD', 'ERIK NORØ', 'GJERDHAUGVEGEN 3', '6512', 'KRISTIANSUND N']\n"
     ]
    }
   ],
   "source": [
    "#kode her\n",
    "persons = []\n",
    "with open(\"Personer.dta\", \"r\", encoding=\"ISO-8859-1\") as file:\n",
    "    for line in file:\n",
    "        p = line.split(\";\")\n",
    "        persons.append(p)    # lager en todimensjonal liste\n",
    "    \n",
    "    \n",
    "for person in persons[-5:]:\n",
    "    print(person)"
   ]
  },
  {
   "cell_type": "raw",
   "metadata": {},
   "source": [
    "2: Hvor mange unike postnummer finnes i \"Personer.dta\"?"
   ]
  },
  {
   "cell_type": "code",
   "execution_count": 10,
   "metadata": {},
   "outputs": [
    {
     "name": "stdout",
     "output_type": "stream",
     "text": [
      "Det finnes 2825 unike postnummer\n"
     ]
    }
   ],
   "source": [
    "#kode her\n",
    "list_size = len(persons)\n",
    "postnummer_set = set()\n",
    "for i in range(list_size):\n",
    "    postnummer_set.add(persons[i][3])\n",
    "\n",
    "print(\"Det finnes\", len(postnummer_set), \"unike postnummer\")"
   ]
  },
  {
   "cell_type": "raw",
   "metadata": {},
   "source": [
    "3: Hva er de 10 vanligste etternavnene (som forekommer flest ganger) i \"Personer.dta\"?"
   ]
  },
  {
   "cell_type": "code",
   "execution_count": 11,
   "metadata": {},
   "outputs": [
    {
     "name": "stdout",
     "output_type": "stream",
     "text": [
      "['ÅSBAKK', 82]\n",
      "['BERGERSEN', 77]\n",
      "['DANIELSEN', 76]\n",
      "['LUNDBERGSEN', 76]\n",
      "['LUTHER', 76]\n",
      "['TRANE', 76]\n",
      "['MJØEN', 75]\n",
      "['IGLAND', 74]\n",
      "['KRANGSÅS', 74]\n",
      "['LAM', 74]\n"
     ]
    }
   ],
   "source": [
    "#kode her\n",
    "etternavn_liste = []\n",
    "count = 0\n",
    "for i in range(list_size):\n",
    "    etternavn_liste.append(persons[i][0])\n",
    "    \n",
    "sortert_etternavn_liste = sorted(etternavn_liste)\n",
    "topp_etternavn_liste = []\n",
    "count = 0\n",
    "i = 0\n",
    "for e in sortert_etternavn_liste:\n",
    "    if i == list_size-1:\n",
    "        break\n",
    "    elif sortert_etternavn_liste[i] == sortert_etternavn_liste[i+1]:\n",
    "        count += 1\n",
    "    else:\n",
    "        #print(e, count)\n",
    "        topp_etternavn_liste.append([e, count])\n",
    "        count = 0\n",
    "    i += 1\n",
    "\n",
    "top = sorted(topp_etternavn_liste, key=lambda l:l[1], reverse=True)\n",
    "\n",
    "for t in top[:10]:\n",
    "    print(t)"
   ]
  },
  {
   "cell_type": "raw",
   "metadata": {},
   "source": [
    "4: Implementer sorteringsalgoritmen Heap Sort og sorter listen \"persons\" utfra rekkefølgen radene er lest inn i. Ferdig implementerte funksjoner som sorted skal ikke benyttes. Skriv så ut indexene [0,20000,40000,60000,80000] fra den sorterte listen."
   ]
  },
  {
   "cell_type": "code",
   "execution_count": 36,
   "metadata": {
    "pycharm": {
     "name": "#%%\n"
    }
   },
   "outputs": [
    {
     "name": "stdout",
     "output_type": "stream",
     "text": [
      "Index 0: ['AAKVIK', 'ANETTE', 'BAKLIEN 11', '1360', 'NESBRU\\n'] \n",
      "Index 20000: ['ENGVOLL', 'STIAN ARNE', 'ØVRE BÅSTAD VEI 95', '2015', 'LEIRSUND\\n'] \n",
      "Index 40000: ['JERMOSEN', 'TINE', 'RIKARD NORDRAAKS VEG 27', '7432', 'TRONDHEIM\\n'] \n",
      "Index 80000: ['SMIRNOV', 'SOLVAR', 'LINEKROKEN 79', '8947', 'SKOTNES\\n']\n"
     ]
    }
   ],
   "source": [
    "# kode her\n",
    "\n",
    "#lag en heap ved å rekursivt gå gjennom listen med persons\n",
    "def heapify(persons, n, i):\n",
    "    largest = i  # største element som root\n",
    "    left = 2 * i + 1\n",
    "    right = 2 * i + 2\n",
    "\n",
    "    if left < n and persons[i] < persons[left]:\n",
    "        largest = left\n",
    "\n",
    "    if right < n and persons[largest] < persons[right]:\n",
    "        largest = right\n",
    "\n",
    "    if largest != i:\n",
    "        persons[i], persons[largest] = persons[largest], persons[i]\n",
    "        heapify(persons, n, largest)\n",
    "\n",
    "\n",
    "def heapsort(persons):\n",
    "    n = len(persons)\n",
    "\n",
    "    # bygg en heap\n",
    "    for i in range(n // 2 - 1, -1, -1):\n",
    "        heapify(persons, n, i)\n",
    "\n",
    "    # ta ut ett og ett element fra listen\n",
    "    for i in range(n - 1, 0, -1):\n",
    "        persons[i], persons[0] = persons[0], persons[i]\n",
    "        heapify(persons, i, 0)\n",
    "\n",
    "heapsort(persons)\n",
    "print(\"Index 0:\", persons[0],\n",
    "      \"\\nIndex 20000:\", persons[20000],\n",
    "      \"\\nIndex 40000:\", persons[40000],\n",
    "      \"\\nIndex 80000:\", persons[80000])"
   ]
  },
  {
   "cell_type": "code",
   "execution_count": 29,
   "metadata": {
    "pycharm": {
     "name": "#%%\n"
    }
   },
   "outputs": [
    {
     "name": "stdout",
     "output_type": "stream",
     "text": [
      "13\n",
      "11\n",
      "12\n",
      "5\n",
      "6\n",
      "7\n"
     ]
    }
   ],
   "source": []
  }
 ],
 "metadata": {
  "kernelspec": {
   "display_name": "Python 3",
   "language": "python",
   "name": "python3"
  },
  "language_info": {
   "codemirror_mode": {
    "name": "ipython",
    "version": 3
   },
   "file_extension": ".py",
   "mimetype": "text/x-python",
   "name": "python",
   "nbconvert_exporter": "python",
   "pygments_lexer": "ipython3",
   "version": "3.8.3"
  }
 },
 "nbformat": 4,
 "nbformat_minor": 4
}
