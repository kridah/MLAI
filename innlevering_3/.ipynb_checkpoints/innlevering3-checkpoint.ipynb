{
 "cells": [
  {
   "cell_type": "raw",
   "metadata": {},
   "source": [
    "1: Filen \"Personer.dta\" skal leses inn i en list persons. Filen inneholder 100 000 rader med fiktive personalia på formatet \"etternavn;fornavn;adresse;postnummer;poststed\". Dette skal gjøres i native Python, dvs. Numpy/Pandas eller andre libs skal ikke brukes. Legg hver rad inn i en passende datastruktur, feks. tuple, dict, list eller namedtuple. Skriv så ut de 5 siste radene i en celle."
   ]
  },
  {
   "cell_type": "code",
   "execution_count": 11,
   "metadata": {},
   "outputs": [
    {
     "name": "stdout",
     "output_type": "stream",
     "text": [
      "['STORLIEN', 'HANS-MAGNUS', 'TALLSLETTA 57', '3849', 'VRÅLIOSEN\\n']\n",
      "['ASAIPPILLAI', 'JO GUDBRAND', 'BERGERUD 68', '4371', 'EGERSUND\\n']\n",
      "['TOLLEFSEN', 'ZULFIQAR ALI', 'EIRIK JARLS GATE 79', '1305', 'HASLUM\\n']\n",
      "['ELI', 'KNUT OLAF', 'RUSTAD S 14', '9775', 'GAMVIK\\n']\n",
      "['NYRUD', 'ERIK NORØ', 'GJERDHAUGVEGEN 3', '6512', 'KRISTIANSUND N']\n"
     ]
    }
   ],
   "source": [
    "#kode her\n",
    "persons = []\n",
    "with open(\"Personer.dta\", \"r\", encoding=\"ISO-8859-1\") as file:\n",
    "    for line in file:\n",
    "        p = line.split(\";\")\n",
    "        persons.append(p)    # lager en todimensjonal liste\n",
    "    \n",
    "    \n",
    "for person in persons[-5:]:\n",
    "    print(person)"
   ]
  },
  {
   "cell_type": "raw",
   "metadata": {},
   "source": [
    "2: Hvor mange unike postnummer finnes i \"Personer.dta\"?"
   ]
  },
  {
   "cell_type": "code",
   "execution_count": 16,
   "metadata": {},
   "outputs": [
    {
     "name": "stdout",
     "output_type": "stream",
     "text": [
      "2824\n"
     ]
    }
   ],
   "source": [
    "#kode her\n",
    "list_size = len(persons)\n",
    "postnummer_set = set()\n",
    "for i in range(list_size):\n",
    "    postnummer_set.add(persons[i][3])\n",
    "\n",
    "print(len(postnummer_set))"
   ]
  },
  {
   "cell_type": "raw",
   "metadata": {},
   "source": [
    "3: Hva er de 10 vanligste etternavnene (som forekommer flest ganger) i \"Personer.dta\"?"
   ]
  },
  {
   "cell_type": "code",
   "execution_count": 61,
   "metadata": {},
   "outputs": [
    {
     "name": "stdout",
     "output_type": "stream",
     "text": [
      "[['ÅSBAKK', 82], ['BERGERSEN', 77], ['DANIELSEN', 76], ['LUNDBERGSEN', 76], ['LUTHER', 76], ['TRANE', 76], ['MJØEN', 75], ['IGLAND', 74], ['KRANGSÅS', 74], ['LAM', 74]]\n"
     ]
    }
   ],
   "source": [
    "#kode her\n",
    "etternavn_liste = []\n",
    "count = 0\n",
    "for i in range(list_size):\n",
    "    etternavn_liste.append(persons[i][0])\n",
    "    \n",
    "sortert_etternavn_liste = sorted(etternavn_liste)\n",
    "topp_etternavn_liste = []\n",
    "count = 0\n",
    "i = 0\n",
    "for e in sortert_etternavn_liste:\n",
    "    if i == list_size-1:\n",
    "        break\n",
    "    elif sortert_etternavn_liste[i] == sortert_etternavn_liste[i+1]:\n",
    "        count += 1\n",
    "    else:\n",
    "        #print(e, count)\n",
    "        topp_etternavn_liste.append([e, count])\n",
    "        count = 0\n",
    "    i += 1\n",
    "\n",
    "    \n",
    "#print(sorted(topp_etternavn_liste))\n",
    "top = sorted(topp_etternavn_liste, key=lambda l:l[1], reverse=True)\n",
    "\n",
    "print(top[0:10])\n"
   ]
  },
  {
   "cell_type": "raw",
   "metadata": {},
   "source": [
    "4: Implementer sorteringsalgoritmen Heap Sort og sorter listen \"persons\" utfra rekkefølgen radene er lest inn i. Ferdig implementerte funksjoner som sorted skal ikke benyttes. Skriv så ut indexene [0,20000,40000,60000,80000] fra den sorterte listen."
   ]
  },
  {
   "cell_type": "code",
   "execution_count": null,
   "metadata": {},
   "outputs": [],
   "source": [
    "#kode her"
   ]
  }
 ],
 "metadata": {
  "kernelspec": {
   "display_name": "Python 3",
   "language": "python",
   "name": "python3"
  },
  "language_info": {
   "codemirror_mode": {
    "name": "ipython",
    "version": 3
   },
   "file_extension": ".py",
   "mimetype": "text/x-python",
   "name": "python",
   "nbconvert_exporter": "python",
   "pygments_lexer": "ipython3",
   "version": "3.8.3"
  }
 },
 "nbformat": 4,
 "nbformat_minor": 4
}
